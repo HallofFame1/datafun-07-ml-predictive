{
    "metadata": {
        "kernelspec": {
            "name": "python3",
            "display_name": "Python 3 (ipykernel)",
            "language": "python"
        },
        "language_info": {
            "name": "python",
            "version": "3.10.7",
            "mimetype": "text/x-python",
            "codemirror_mode": {
                "name": "ipython",
                "version": 3
            },
            "pygments_lexer": "ipython3",
            "nbconvert_exporter": "python",
            "file_extension": ".py"
        }
    },
    "nbformat_minor": 2,
    "nbformat": 4,
    "cells": [
        {
            "cell_type": "markdown",
            "source": [
                "# Helen Hammond's Module 4 Project\n",
                "\n",
                "### Date: Feb 21 2023\n",
                "\n",
                "# Task 3 - Time Series and Simple Linear Regression"
            ],
            "metadata": {
                "language": "python",
                "azdata_cell_guid": "8b3b3d58-dc2f-459e-8e8f-ac061f8ad961"
            },
            "attachments": {}
        },
        {
            "cell_type": "markdown",
            "source": [
                "Follow the process provided in the text. \n",
                "1.\tFollow the instructions from 10.16 (starting page 414).\n",
                "2.\tNote: The data is for the average (daily) high temperature in January over many years.\n",
                "3.\tFor example, in 1895, the average high temperature in January was 34.2.\n",
                "4.\tWe only care about this one series of data: the \"average high temp in Jan\".\n",
                "5.\tThere's a lot of stats in the title, and it has confused students. Just think of each value as \"the temperature\" for that year.\n",
                "6.\tWe'll use all of the data available to build a best-fit line (supervised learning). \n",
                "7.\tWe'll use the slope and intercept of the best-fit line to estimate a point out in the future.\n",
                "8.\tUse a notebook (rather than interactive mode). \n",
                "9.\tUse pandas DataFrames to plot Celsius vs Fahrenheit \n",
                "10.\tRefresh your understanding of the equation for a line (y=mx +b)\n",
                "11.\tFollow the instructions to load NY City January high temperature from a csv file into a DataFrame.\n",
                "12.\tFollow the instructions to view head and tail of the file. \n",
                "13.\tFollow the instructions to clean the data.\n",
                "14.\tUse describe() to calculate basic descriptive statistics for the dataset. \n",
                "15.\tUse the SciPy stats module linregress function to calculate slope and intercept for the best fit line through the data.\n",
                "16.\tUse your results to predict the \"average high temp in Jan\" for the year 2026. \n",
                "17.\tFollow the instructions and use Seaborn to generate a scatter plot with a best fit line. Set the axes and y limit as instructed.\n",
                "18.\tIn the same notebook, continue with 15.4 (staring page 620). \n",
                "19.\tThis time, we'll use scikit-learn estimator, and we'll practice splitting data for training (to build a model) and testing (testing our model against known values). \n",
                "20.\tFollow the instructions all the way though charting it again with the specified axes.\n",
                "21.\tAt the end of your notebook add some remarks comparing the two methods. \n",
                "22.\tBy now, you know to include the title, your name, and section headings (always!) and to tell an engaging story with data, so we won't remind you.\n",
                "Excellent analytical skills need professional communication skills to be of maximum benefit. \n",
                ""
            ],
            "metadata": {
                "language": "python",
                "azdata_cell_guid": "73709413-a3c6-4231-af62-cee66f79929c"
            },
            "attachments": {}
        },
        {
            "cell_type": "markdown",
            "source": [
                "## 1 - Load"
            ],
            "metadata": {
                "language": "python",
                "azdata_cell_guid": "2eca402f-3b4d-494c-86a8-635acee43db0"
            },
            "attachments": {}
        },
        {
            "cell_type": "markdown",
            "source": [
                "Import pandas library"
            ],
            "metadata": {
                "language": "python",
                "azdata_cell_guid": "c4e0d6d7-b254-4223-ae5c-e65f75276e52"
            },
            "attachments": {}
        },
        {
            "cell_type": "code",
            "source": [
                "import pandas as pd"
            ],
            "metadata": {
                "language": "python",
                "azdata_cell_guid": "0cdb4f2f-53db-406c-9418-ba3a2ff3fca5"
            },
            "outputs": [],
            "execution_count": 865
        },
        {
            "cell_type": "markdown",
            "source": [
                "Load the New York City data into a DataFrame"
            ],
            "metadata": {
                "language": "python",
                "azdata_cell_guid": "d09cecce-5e72-4ce7-a6c7-b65181551147"
            },
            "attachments": {}
        },
        {
            "cell_type": "code",
            "source": [
                "nyc_df = pd.read_csv('ave_hi_nyc_jan_1895_2018.csv')"
            ],
            "metadata": {
                "language": "python",
                "azdata_cell_guid": "db3279b9-1cfa-4acc-8b5f-2ee1d09e0777"
            },
            "outputs": [],
            "execution_count": 866
        },
        {
            "cell_type": "markdown",
            "source": [
                "View top 5 entries in the data"
            ],
            "metadata": {
                "language": "python",
                "azdata_cell_guid": "20f9f727-59e0-4514-9f66-0c2fd77b4d09"
            },
            "attachments": {}
        },
        {
            "cell_type": "code",
            "source": [
                "nyc_df.head()"
            ],
            "metadata": {
                "language": "python",
                "azdata_cell_guid": "ad56b505-30d2-4f2f-ab0e-70f999e9b479"
            },
            "outputs": [
                {
                    "data": {
                        "text/plain": "   New York   New York   Average Temperature\n0    189501       28.4                  -2.8\n1    189601       28.0                  -3.2\n2    189701       28.8                  -2.4\n3    189801       33.4                   2.2\n4    189901       29.3                  -1.9",
                        "text/html": "<div>\n<style scoped>\n    .dataframe tbody tr th:only-of-type {\n        vertical-align: middle;\n    }\n\n    .dataframe tbody tr th {\n        vertical-align: top;\n    }\n\n    .dataframe thead th {\n        text-align: right;\n    }\n</style>\n<table border=\"1\" class=\"dataframe\">\n  <thead>\n    <tr style=\"text-align: right;\">\n      <th></th>\n      <th>New York</th>\n      <th>New York</th>\n      <th>Average Temperature</th>\n    </tr>\n  </thead>\n  <tbody>\n    <tr>\n      <th>0</th>\n      <td>189501</td>\n      <td>28.4</td>\n      <td>-2.8</td>\n    </tr>\n    <tr>\n      <th>1</th>\n      <td>189601</td>\n      <td>28.0</td>\n      <td>-3.2</td>\n    </tr>\n    <tr>\n      <th>2</th>\n      <td>189701</td>\n      <td>28.8</td>\n      <td>-2.4</td>\n    </tr>\n    <tr>\n      <th>3</th>\n      <td>189801</td>\n      <td>33.4</td>\n      <td>2.2</td>\n    </tr>\n    <tr>\n      <th>4</th>\n      <td>189901</td>\n      <td>29.3</td>\n      <td>-1.9</td>\n    </tr>\n  </tbody>\n</table>\n</div>"
                    },
                    "metadata": {},
                    "execution_count": 867,
                    "output_type": "execute_result"
                }
            ],
            "execution_count": 867
        },
        {
            "cell_type": "markdown",
            "source": [
                "View last 7 entries"
            ],
            "metadata": {
                "language": "python",
                "azdata_cell_guid": "b1d7bc6d-1dd3-437a-8a09-8160124bd98f"
            },
            "attachments": {}
        },
        {
            "cell_type": "code",
            "source": [
                "nyc_df.tail(7)"
            ],
            "metadata": {
                "language": "python",
                "azdata_cell_guid": "869d679c-901f-43bb-9083-38bef00442ef"
            },
            "outputs": [
                {
                    "data": {
                        "text/plain": "     New York   New York   Average Temperature\n122    201701       38.1                   6.9\n123    201801       31.8                   0.6\n124    201901       32.6                   1.4\n125    202001       39.2                   8.0\n126    202101       34.8                   3.6\n127    202201       30.4                  -0.8\n128    202301       43.5                  12.3",
                        "text/html": "<div>\n<style scoped>\n    .dataframe tbody tr th:only-of-type {\n        vertical-align: middle;\n    }\n\n    .dataframe tbody tr th {\n        vertical-align: top;\n    }\n\n    .dataframe thead th {\n        text-align: right;\n    }\n</style>\n<table border=\"1\" class=\"dataframe\">\n  <thead>\n    <tr style=\"text-align: right;\">\n      <th></th>\n      <th>New York</th>\n      <th>New York</th>\n      <th>Average Temperature</th>\n    </tr>\n  </thead>\n  <tbody>\n    <tr>\n      <th>122</th>\n      <td>201701</td>\n      <td>38.1</td>\n      <td>6.9</td>\n    </tr>\n    <tr>\n      <th>123</th>\n      <td>201801</td>\n      <td>31.8</td>\n      <td>0.6</td>\n    </tr>\n    <tr>\n      <th>124</th>\n      <td>201901</td>\n      <td>32.6</td>\n      <td>1.4</td>\n    </tr>\n    <tr>\n      <th>125</th>\n      <td>202001</td>\n      <td>39.2</td>\n      <td>8.0</td>\n    </tr>\n    <tr>\n      <th>126</th>\n      <td>202101</td>\n      <td>34.8</td>\n      <td>3.6</td>\n    </tr>\n    <tr>\n      <th>127</th>\n      <td>202201</td>\n      <td>30.4</td>\n      <td>-0.8</td>\n    </tr>\n    <tr>\n      <th>128</th>\n      <td>202301</td>\n      <td>43.5</td>\n      <td>12.3</td>\n    </tr>\n  </tbody>\n</table>\n</div>"
                    },
                    "metadata": {},
                    "execution_count": 868,
                    "output_type": "execute_result"
                }
            ],
            "execution_count": 868
        },
        {
            "cell_type": "markdown",
            "source": [
                "## 2 - Data Cleaning"
            ],
            "metadata": {
                "language": "python",
                "azdata_cell_guid": "17562a1e-add4-400e-bc1d-1be2c8880b48"
            },
            "attachments": {}
        },
        {
            "cell_type": "markdown",
            "source": [
                "Let's rename the columns to Date, Temperature and Anomaly"
            ],
            "metadata": {
                "language": "python",
                "azdata_cell_guid": "d832dd8a-a1da-4fed-a7a5-48c085d89523"
            },
            "attachments": {}
        },
        {
            "cell_type": "code",
            "source": [
                "nyc_df.columns = ['Date', 'Temperature', 'Anomaly']\n",
                "nyc_df.head(3)"
            ],
            "metadata": {
                "language": "python",
                "azdata_cell_guid": "37d06a12-41c8-4d4a-8f7b-f31d288da86e"
            },
            "outputs": [
                {
                    "data": {
                        "text/plain": "     Date  Temperature  Anomaly\n0  189501         28.4     -2.8\n1  189601         28.0     -3.2\n2  189701         28.8     -2.4",
                        "text/html": "<div>\n<style scoped>\n    .dataframe tbody tr th:only-of-type {\n        vertical-align: middle;\n    }\n\n    .dataframe tbody tr th {\n        vertical-align: top;\n    }\n\n    .dataframe thead th {\n        text-align: right;\n    }\n</style>\n<table border=\"1\" class=\"dataframe\">\n  <thead>\n    <tr style=\"text-align: right;\">\n      <th></th>\n      <th>Date</th>\n      <th>Temperature</th>\n      <th>Anomaly</th>\n    </tr>\n  </thead>\n  <tbody>\n    <tr>\n      <th>0</th>\n      <td>189501</td>\n      <td>28.4</td>\n      <td>-2.8</td>\n    </tr>\n    <tr>\n      <th>1</th>\n      <td>189601</td>\n      <td>28.0</td>\n      <td>-3.2</td>\n    </tr>\n    <tr>\n      <th>2</th>\n      <td>189701</td>\n      <td>28.8</td>\n      <td>-2.4</td>\n    </tr>\n  </tbody>\n</table>\n</div>"
                    },
                    "metadata": {},
                    "execution_count": 869,
                    "output_type": "execute_result"
                }
            ],
            "execution_count": 869
        },
        {
            "cell_type": "markdown",
            "source": [
                "Since we know that it is January data, we can remove the month from the date information to display the year only."
            ],
            "metadata": {
                "language": "python",
                "azdata_cell_guid": "4b64b70d-9357-4404-89f2-00c128d2b7d6"
            },
            "attachments": {}
        },
        {
            "cell_type": "code",
            "source": [
                "nyc_df.Date.dtype"
            ],
            "metadata": {
                "language": "python",
                "azdata_cell_guid": "ca81a72a-705c-41eb-84b9-d2f092b0afac"
            },
            "outputs": [
                {
                    "data": {
                        "text/plain": "dtype('int64')"
                    },
                    "metadata": {},
                    "execution_count": 870,
                    "output_type": "execute_result"
                }
            ],
            "execution_count": 870
        },
        {
            "cell_type": "markdown",
            "source": [
                "Being an int column, we can achieve this by dividing by 100 using the Series method _floordiv_"
            ],
            "metadata": {
                "language": "python",
                "azdata_cell_guid": "5fef3e41-b50c-4402-b1fd-e78c264dac8c"
            },
            "attachments": {}
        },
        {
            "cell_type": "code",
            "source": [
                "nyc_df.Date = nyc_df.Date.floordiv(100)\n",
                "nyc_df.head()"
            ],
            "metadata": {
                "language": "python",
                "azdata_cell_guid": "2d5f60fd-4d1e-4fc8-b02a-f0e5dfff86dc"
            },
            "outputs": [
                {
                    "data": {
                        "text/plain": "   Date  Temperature  Anomaly\n0  1895         28.4     -2.8\n1  1896         28.0     -3.2\n2  1897         28.8     -2.4\n3  1898         33.4      2.2\n4  1899         29.3     -1.9",
                        "text/html": "<div>\n<style scoped>\n    .dataframe tbody tr th:only-of-type {\n        vertical-align: middle;\n    }\n\n    .dataframe tbody tr th {\n        vertical-align: top;\n    }\n\n    .dataframe thead th {\n        text-align: right;\n    }\n</style>\n<table border=\"1\" class=\"dataframe\">\n  <thead>\n    <tr style=\"text-align: right;\">\n      <th></th>\n      <th>Date</th>\n      <th>Temperature</th>\n      <th>Anomaly</th>\n    </tr>\n  </thead>\n  <tbody>\n    <tr>\n      <th>0</th>\n      <td>1895</td>\n      <td>28.4</td>\n      <td>-2.8</td>\n    </tr>\n    <tr>\n      <th>1</th>\n      <td>1896</td>\n      <td>28.0</td>\n      <td>-3.2</td>\n    </tr>\n    <tr>\n      <th>2</th>\n      <td>1897</td>\n      <td>28.8</td>\n      <td>-2.4</td>\n    </tr>\n    <tr>\n      <th>3</th>\n      <td>1898</td>\n      <td>33.4</td>\n      <td>2.2</td>\n    </tr>\n    <tr>\n      <th>4</th>\n      <td>1899</td>\n      <td>29.3</td>\n      <td>-1.9</td>\n    </tr>\n  </tbody>\n</table>\n</div>"
                    },
                    "metadata": {},
                    "execution_count": 871,
                    "output_type": "execute_result"
                }
            ],
            "execution_count": 871
        },
        {
            "cell_type": "markdown",
            "source": [
                "## 3 - Descriptive Statistics"
            ],
            "metadata": {
                "language": "python",
                "azdata_cell_guid": "5fbee251-e4af-41b3-9483-831192a80634"
            },
            "attachments": {}
        },
        {
            "cell_type": "markdown",
            "source": [
                "Let's calculcate basic descriptive statistics for this dataset"
            ],
            "metadata": {
                "language": "python",
                "azdata_cell_guid": "c1353303-b0be-4383-b7ab-3e91dc765ae0"
            },
            "attachments": {}
        },
        {
            "cell_type": "markdown",
            "source": [
                "Set the precision to 2"
            ],
            "metadata": {
                "language": "python",
                "azdata_cell_guid": "65ffec09-f31f-4113-8b49-23f790c70e9f"
            },
            "attachments": {}
        },
        {
            "cell_type": "code",
            "source": [
                "pd.options.display.precision = 2\n",
                ""
            ],
            "metadata": {
                "language": "python",
                "azdata_cell_guid": "2d9b9778-008e-4570-8bf8-8f1ab790812d"
            },
            "outputs": [],
            "execution_count": 872
        },
        {
            "cell_type": "markdown",
            "source": [
                "We have 129 entries. The mean temperature is 31.58. The highest temperature is 43.50 and the lowest was 20.50."
            ],
            "metadata": {
                "language": "python",
                "azdata_cell_guid": "6ebcdce3-25d1-41e9-935e-53d69778de57"
            },
            "attachments": {}
        },
        {
            "cell_type": "code",
            "source": [
                "nyc_df.describe()"
            ],
            "metadata": {
                "language": "python",
                "azdata_cell_guid": "a493a933-d705-4fbc-8c4b-d59a6cdc7fd8"
            },
            "outputs": [
                {
                    "data": {
                        "text/plain": "          Date  Temperature  Anomaly\ncount   129.00       129.00   129.00\nmean   1959.00        31.58     0.38\nstd      37.38         4.58     4.58\nmin    1895.00        20.50   -10.70\n25%    1927.00        28.70    -2.50\n50%    1959.00        31.30     0.10\n75%    1991.00        34.50     3.30\nmax    2023.00        43.50    12.30",
                        "text/html": "<div>\n<style scoped>\n    .dataframe tbody tr th:only-of-type {\n        vertical-align: middle;\n    }\n\n    .dataframe tbody tr th {\n        vertical-align: top;\n    }\n\n    .dataframe thead th {\n        text-align: right;\n    }\n</style>\n<table border=\"1\" class=\"dataframe\">\n  <thead>\n    <tr style=\"text-align: right;\">\n      <th></th>\n      <th>Date</th>\n      <th>Temperature</th>\n      <th>Anomaly</th>\n    </tr>\n  </thead>\n  <tbody>\n    <tr>\n      <th>count</th>\n      <td>129.00</td>\n      <td>129.00</td>\n      <td>129.00</td>\n    </tr>\n    <tr>\n      <th>mean</th>\n      <td>1959.00</td>\n      <td>31.58</td>\n      <td>0.38</td>\n    </tr>\n    <tr>\n      <th>std</th>\n      <td>37.38</td>\n      <td>4.58</td>\n      <td>4.58</td>\n    </tr>\n    <tr>\n      <th>min</th>\n      <td>1895.00</td>\n      <td>20.50</td>\n      <td>-10.70</td>\n    </tr>\n    <tr>\n      <th>25%</th>\n      <td>1927.00</td>\n      <td>28.70</td>\n      <td>-2.50</td>\n    </tr>\n    <tr>\n      <th>50%</th>\n      <td>1959.00</td>\n      <td>31.30</td>\n      <td>0.10</td>\n    </tr>\n    <tr>\n      <th>75%</th>\n      <td>1991.00</td>\n      <td>34.50</td>\n      <td>3.30</td>\n    </tr>\n    <tr>\n      <th>max</th>\n      <td>2023.00</td>\n      <td>43.50</td>\n      <td>12.30</td>\n    </tr>\n  </tbody>\n</table>\n</div>"
                    },
                    "metadata": {},
                    "execution_count": 873,
                    "output_type": "execute_result"
                }
            ],
            "execution_count": 873
        },
        {
            "cell_type": "markdown",
            "source": [
                "## 4 - SciPy Stats"
            ],
            "metadata": {
                "language": "python",
                "azdata_cell_guid": "27d8ff33-43e7-438e-a388-c7769f3a3c93"
            },
            "attachments": {}
        },
        {
            "cell_type": "markdown",
            "source": [
                "Import stats module from the SciPy (Scientific Python) library"
            ],
            "metadata": {
                "language": "python",
                "azdata_cell_guid": "307766cf-5b5f-4e08-bec3-07b45e015293"
            },
            "attachments": {}
        },
        {
            "cell_type": "code",
            "source": [
                "from scipy import stats"
            ],
            "metadata": {
                "language": "python",
                "azdata_cell_guid": "e621533b-15cb-4e74-b88f-8be90439f16b"
            },
            "outputs": [],
            "execution_count": 874
        },
        {
            "cell_type": "markdown",
            "source": [
                "Using the SciPy stats module linregress function to calculate slope and intercept for the best fit line through the data"
            ],
            "metadata": {
                "language": "python",
                "azdata_cell_guid": "ee974fc5-65ff-44da-9a29-7305d907c4f6"
            },
            "attachments": {}
        },
        {
            "cell_type": "code",
            "source": [
                "linear_regress_result = stats.linregress(x=nyc_df.Date,\n",
                "                                     y=nyc_df.Temperature)\n",
                "linear_regress_result"
            ],
            "metadata": {
                "language": "python",
                "azdata_cell_guid": "9879d76f-08c0-481b-b016-7b08c9ce2840"
            },
            "outputs": [
                {
                    "data": {
                        "text/plain": "LinregressResult(slope=0.030204606440071554, intercept=-27.587103085867618, rvalue=0.24637931210403088, pvalue=0.004883527210574785, stderr=0.010543106763739778, intercept_stderr=20.65767725131799)"
                    },
                    "metadata": {},
                    "execution_count": 875,
                    "output_type": "execute_result"
                }
            ],
            "execution_count": 875
        },
        {
            "cell_type": "code",
            "source": [
                "linear_regress_result.slope"
            ],
            "metadata": {
                "language": "python",
                "azdata_cell_guid": "e5f4436a-1e79-4a0c-b36c-e0247313b246"
            },
            "outputs": [
                {
                    "data": {
                        "text/plain": "0.030204606440071554"
                    },
                    "metadata": {},
                    "execution_count": 876,
                    "output_type": "execute_result"
                }
            ],
            "execution_count": 876
        },
        {
            "cell_type": "code",
            "source": [
                "linear_regress_result.intercept"
            ],
            "metadata": {
                "language": "python",
                "azdata_cell_guid": "213019de-7911-4731-a21e-d7ed16e31414"
            },
            "outputs": [
                {
                    "data": {
                        "text/plain": "-27.587103085867618"
                    },
                    "metadata": {},
                    "execution_count": 877,
                    "output_type": "execute_result"
                }
            ],
            "execution_count": 877
        },
        {
            "cell_type": "markdown",
            "source": [
                "Predict the average high temp in Jan 2026"
            ],
            "metadata": {
                "language": "python",
                "azdata_cell_guid": "b632063b-165e-446d-b68d-79befbc7b866"
            },
            "attachments": {}
        },
        {
            "cell_type": "code",
            "source": [
                "linear_regress_result.slope * 2026 + linear_regress_result.intercept\n",
                ""
            ],
            "metadata": {
                "language": "python",
                "azdata_cell_guid": "9abf142b-dbe3-4857-910c-765c18c08f01",
                "tags": [
                    "hide_input"
                ]
            },
            "outputs": [
                {
                    "data": {
                        "text/plain": "33.60742956171735"
                    },
                    "metadata": {},
                    "execution_count": 878,
                    "output_type": "execute_result"
                }
            ],
            "execution_count": 878
        },
        {
            "cell_type": "markdown",
            "source": [
                "Let's approximate what the average temperature might have been in the year 1890"
            ],
            "metadata": {
                "language": "python",
                "azdata_cell_guid": "8a3b7c66-497e-4b89-becb-56ee9325b3be"
            },
            "attachments": {}
        },
        {
            "cell_type": "code",
            "source": [
                "linear_regress_result.slope * 1890 + linear_regress_result.intercept"
            ],
            "metadata": {
                "language": "python",
                "azdata_cell_guid": "06fc52be-6048-489c-8761-991af37c7c07"
            },
            "outputs": [
                {
                    "data": {
                        "text/plain": "29.49960308586762"
                    },
                    "metadata": {},
                    "execution_count": 879,
                    "output_type": "execute_result"
                }
            ],
            "execution_count": 879
        },
        {
            "cell_type": "markdown",
            "source": [
                "## 5 - Seaborn\n",
                "\n",
                "Let’s use Seaborn’s regplot function to plot each data point with the dates on the x-axis and the temperatures on the y-axis. The regplot function creates the scatter plot or scattergram below in which the scattered blue dots represent the Temperatures for the given Dates, and the straight line displayed through the points is the regression line."
            ],
            "metadata": {
                "language": "python",
                "azdata_cell_guid": "55e725e7-10f0-4ed5-b1cb-60a153e4bee9"
            },
            "attachments": {}
        },
        {
            "cell_type": "markdown",
            "source": [
                "Import Seaborn and enable grid lines"
            ],
            "metadata": {
                "language": "python",
                "azdata_cell_guid": "3e872d8f-cc4c-40ec-9d1c-a42e710e4924"
            },
            "attachments": {}
        },
        {
            "cell_type": "code",
            "source": [
                "import seaborn as sns\n",
                "sns.set_style('whitegrid')"
            ],
            "metadata": {
                "language": "python",
                "azdata_cell_guid": "09a776e3-862e-4127-aaac-9131c97ed789"
            },
            "outputs": [],
            "execution_count": 880
        },
        {
            "cell_type": "markdown",
            "source": [
                "Use Seaborn's regplot function to create a scattergram showing the best fit line."
            ],
            "metadata": {
                "language": "python",
                "azdata_cell_guid": "614bbc47-22e9-4b28-8b4e-16177fa4c06b"
            },
            "attachments": {}
        },
        {
            "cell_type": "code",
            "source": [
                "axes = sns.regplot(x=nyc_df.Date, \n",
                "                   y=nyc_df.Temperature)\n",
                "axes.set(ylim=(0, 70)) # y sxis scaling"
            ],
            "metadata": {
                "language": "python",
                "azdata_cell_guid": "22655d97-6ed9-47c4-986a-d3b17cc0d775"
            },
            "outputs": [
                {
                    "data": {
                        "text/plain": "<Figure size 640x480 with 1 Axes>",
                        "image/png": "[encoded data removed]"
                    },
                    "metadata": {},
                    "output_type": "display_data"
                },
                {
                    "data": {
                        "text/plain": "[(0.0, 70.0)]"
                    },
                    "metadata": {},
                    "execution_count": 881,
                    "output_type": "execute_result"
                }
            ],
            "execution_count": 881
        },
        {
            "cell_type": "markdown",
            "source": [
                "The y axis is scaled to start from 0 to 70 for a vivid view of the linear relationship"
            ],
            "metadata": {
                "language": "python",
                "azdata_cell_guid": "2a137e7b-7d95-463f-9081-e835e9517f02"
            },
            "attachments": {}
        },
        {
            "cell_type": "markdown",
            "source": [
                "## 5 - scikit-learn estimator\n",
                "In this section, we’ll\n",
                "\n",
                "- use a scikit-learn estimator to reimplement the simple linear regression we showed in Chapter 10,\n",
                "- use Seaborn’s scatterplot function to plot the data and Matplotlib’s plot function to display the regression line, then\n",
                "- use the coefficient and intercept values calculated by the scikit-learn estimator to make predictions.\n",
                ""
            ],
            "metadata": {
                "language": "python",
                "azdata_cell_guid": "810aeb02-b1b0-481c-9869-c4efd85fc713"
            },
            "attachments": {}
        },
        {
            "cell_type": "markdown",
            "source": [
                "Display the top 5 entries in the average temperature data"
            ],
            "metadata": {
                "language": "python",
                "azdata_cell_guid": "211b7caa-0903-423a-9e87-3b812d8b20a6"
            },
            "attachments": {}
        },
        {
            "cell_type": "code",
            "source": [
                "nyc_df.head()"
            ],
            "metadata": {
                "language": "python",
                "azdata_cell_guid": "f3b736c4-052a-417e-8963-b676b70c9eec"
            },
            "outputs": [
                {
                    "data": {
                        "text/plain": "   Date  Temperature  Anomaly\n0  1895         28.4     -2.8\n1  1896         28.0     -3.2\n2  1897         28.8     -2.4\n3  1898         33.4      2.2\n4  1899         29.3     -1.9",
                        "text/html": "<div>\n<style scoped>\n    .dataframe tbody tr th:only-of-type {\n        vertical-align: middle;\n    }\n\n    .dataframe tbody tr th {\n        vertical-align: top;\n    }\n\n    .dataframe thead th {\n        text-align: right;\n    }\n</style>\n<table border=\"1\" class=\"dataframe\">\n  <thead>\n    <tr style=\"text-align: right;\">\n      <th></th>\n      <th>Date</th>\n      <th>Temperature</th>\n      <th>Anomaly</th>\n    </tr>\n  </thead>\n  <tbody>\n    <tr>\n      <th>0</th>\n      <td>1895</td>\n      <td>28.4</td>\n      <td>-2.8</td>\n    </tr>\n    <tr>\n      <th>1</th>\n      <td>1896</td>\n      <td>28.0</td>\n      <td>-3.2</td>\n    </tr>\n    <tr>\n      <th>2</th>\n      <td>1897</td>\n      <td>28.8</td>\n      <td>-2.4</td>\n    </tr>\n    <tr>\n      <th>3</th>\n      <td>1898</td>\n      <td>33.4</td>\n      <td>2.2</td>\n    </tr>\n    <tr>\n      <th>4</th>\n      <td>1899</td>\n      <td>29.3</td>\n      <td>-1.9</td>\n    </tr>\n  </tbody>\n</table>\n</div>"
                    },
                    "metadata": {},
                    "execution_count": 882,
                    "output_type": "execute_result"
                }
            ],
            "execution_count": 882
        },
        {
            "cell_type": "markdown",
            "source": [
                "### Splitting the Data for Training and Testing\n",
                "Let’s split the data into training and testing sets while using the keyword argument _random_state_ for reproducibility."
            ],
            "metadata": {
                "language": "python",
                "azdata_cell_guid": "fc3102f3-92eb-43b8-8010-803052d6ee50"
            },
            "attachments": {}
        },
        {
            "cell_type": "code",
            "source": [
                "from sklearn.model_selection import train_test_split\n",
                "\n",
                "X_train, X_test, y_train, y_test = train_test_split( nyc_df.Date.values.reshape(-1, 1), nyc_df.Temperature.values, random_state=11)"
            ],
            "metadata": {
                "language": "python",
                "azdata_cell_guid": "3163b532-e2db-46fd-8222-74b210fc72cd"
            },
            "outputs": [],
            "execution_count": 883
        },
        {
            "cell_type": "markdown",
            "source": [
                "We can confirm the 75%–25% train-test split by checking the shapes of X_train and X_test:"
            ],
            "metadata": {
                "language": "python",
                "azdata_cell_guid": "c26e3624-7f65-421c-9cf0-fc2705406176"
            },
            "attachments": {}
        },
        {
            "cell_type": "code",
            "source": [
                "X_train.shape"
            ],
            "metadata": {
                "language": "python",
                "azdata_cell_guid": "2f003be5-9d08-40df-9691-95cdc96d56b3"
            },
            "outputs": [
                {
                    "data": {
                        "text/plain": "(96, 1)"
                    },
                    "metadata": {},
                    "execution_count": 884,
                    "output_type": "execute_result"
                }
            ],
            "execution_count": 884
        },
        {
            "cell_type": "code",
            "source": [
                "X_test.shape"
            ],
            "metadata": {
                "language": "python",
                "azdata_cell_guid": "25d27c96-49ab-4597-87f7-92120c978577"
            },
            "outputs": [
                {
                    "data": {
                        "text/plain": "(33, 1)"
                    },
                    "metadata": {},
                    "execution_count": 885,
                    "output_type": "execute_result"
                }
            ],
            "execution_count": 885
        },
        {
            "cell_type": "markdown",
            "source": [
                "### Training the Model\n",
                "\n",
                "Let’s train a LinearRegression estimator:"
            ],
            "metadata": {
                "language": "python",
                "azdata_cell_guid": "0f575d3c-ef64-4357-a859-e4dd705e7a5e"
            },
            "attachments": {}
        },
        {
            "cell_type": "code",
            "source": [
                "from sklearn.linear_model import LinearRegression\n",
                "linear_regression = LinearRegression()\n",
                "linear_regression.fit(X=X_train, y=y_train)\n",
                "LinearRegression(copy_X=True, fit_intercept=True, n_jobs=None)"
            ],
            "metadata": {
                "language": "python",
                "azdata_cell_guid": "27f49322-f496-4ede-8b92-615045ef0a19"
            },
            "outputs": [
                {
                    "data": {
                        "text/plain": "LinearRegression()",
                        "text/html": "<style>#sk-container-id-16 {color: black;background-color: white;}#sk-container-id-16 pre{padding: 0;}#sk-container-id-16 div.sk-toggleable {background-color: white;}#sk-container-id-16 label.sk-toggleable__label {cursor: pointer;display: block;width: 100%;margin-bottom: 0;padding: 0.3em;box-sizing: border-box;text-align: center;}#sk-container-id-16 label.sk-toggleable__label-arrow:before {content: \"▸\";float: left;margin-right: 0.25em;color: #696969;}#sk-container-id-16 label.sk-toggleable__label-arrow:hover:before {color: black;}#sk-container-id-16 div.sk-estimator:hover label.sk-toggleable__label-arrow:before {color: black;}#sk-container-id-16 div.sk-toggleable__content {max-height: 0;max-width: 0;overflow: hidden;text-align: left;background-color: #f0f8ff;}#sk-container-id-16 div.sk-toggleable__content pre {margin: 0.2em;color: black;border-radius: 0.25em;background-color: #f0f8ff;}#sk-container-id-16 input.sk-toggleable__control:checked~div.sk-toggleable__content {max-height: 200px;max-width: 100%;overflow: auto;}#sk-container-id-16 input.sk-toggleable__control:checked~label.sk-toggleable__label-arrow:before {content: \"▾\";}#sk-container-id-16 div.sk-estimator input.sk-toggleable__control:checked~label.sk-toggleable__label {background-color: #d4ebff;}#sk-container-id-16 div.sk-label input.sk-toggleable__control:checked~label.sk-toggleable__label {background-color: #d4ebff;}#sk-container-id-16 input.sk-hidden--visually {border: 0;clip: rect(1px 1px 1px 1px);clip: rect(1px, 1px, 1px, 1px);height: 1px;margin: -1px;overflow: hidden;padding: 0;position: absolute;width: 1px;}#sk-container-id-16 div.sk-estimator {font-family: monospace;background-color: #f0f8ff;border: 1px dotted black;border-radius: 0.25em;box-sizing: border-box;margin-bottom: 0.5em;}#sk-container-id-16 div.sk-estimator:hover {background-color: #d4ebff;}#sk-container-id-16 div.sk-parallel-item::after {content: \"\";width: 100%;border-bottom: 1px solid gray;flex-grow: 1;}#sk-container-id-16 div.sk-label:hover label.sk-toggleable__label {background-color: #d4ebff;}#sk-container-id-16 div.sk-serial::before {content: \"\";position: absolute;border-left: 1px solid gray;box-sizing: border-box;top: 0;bottom: 0;left: 50%;z-index: 0;}#sk-container-id-16 div.sk-serial {display: flex;flex-direction: column;align-items: center;background-color: white;padding-right: 0.2em;padding-left: 0.2em;position: relative;}#sk-container-id-16 div.sk-item {position: relative;z-index: 1;}#sk-container-id-16 div.sk-parallel {display: flex;align-items: stretch;justify-content: center;background-color: white;position: relative;}#sk-container-id-16 div.sk-item::before, #sk-container-id-16 div.sk-parallel-item::before {content: \"\";position: absolute;border-left: 1px solid gray;box-sizing: border-box;top: 0;bottom: 0;left: 50%;z-index: -1;}#sk-container-id-16 div.sk-parallel-item {display: flex;flex-direction: column;z-index: 1;position: relative;background-color: white;}#sk-container-id-16 div.sk-parallel-item:first-child::after {align-self: flex-end;width: 50%;}#sk-container-id-16 div.sk-parallel-item:last-child::after {align-self: flex-start;width: 50%;}#sk-container-id-16 div.sk-parallel-item:only-child::after {width: 0;}#sk-container-id-16 div.sk-dashed-wrapped {border: 1px dashed gray;margin: 0 0.4em 0.5em 0.4em;box-sizing: border-box;padding-bottom: 0.4em;background-color: white;}#sk-container-id-16 div.sk-label label {font-family: monospace;font-weight: bold;display: inline-block;line-height: 1.2em;}#sk-container-id-16 div.sk-label-container {text-align: center;}#sk-container-id-16 div.sk-container {/* jupyter's `normalize.less` sets `[hidden] { display: none; }` but bootstrap.min.css set `[hidden] { display: none !important; }` so we also need the `!important` here to be able to override the default hidden behavior on the sphinx rendered scikit-learn.org. See: https://github.com/scikit-learn/scikit-learn/issues/21755 */display: inline-block !important;position: relative;}#sk-container-id-16 div.sk-text-repr-fallback {display: none;}</style><div id=\"sk-container-id-16\" class=\"sk-top-container\"><div class=\"sk-text-repr-fallback\"><pre>LinearRegression()</pre><b>In a Jupyter environment, please rerun this cell to show the HTML representation or trust the notebook. <br />On GitHub, the HTML representation is unable to render, please try loading this page with nbviewer.org.</b></div><div class=\"sk-container\" hidden><div class=\"sk-item\"><div class=\"sk-estimator sk-toggleable\"><input class=\"sk-toggleable__control sk-hidden--visually\" id=\"sk-estimator-id-16\" type=\"checkbox\" checked><label for=\"sk-estimator-id-16\" class=\"sk-toggleable__label sk-toggleable__label-arrow\">LinearRegression</label><div class=\"sk-toggleable__content\"><pre>LinearRegression()</pre></div></div></div></div></div>"
                    },
                    "metadata": {},
                    "execution_count": 886,
                    "output_type": "execute_result"
                }
            ],
            "execution_count": 886
        },
        {
            "cell_type": "markdown",
            "source": [
                "After training the estimator, fit returns the estimator, and IPython displays its string representation"
            ],
            "metadata": {
                "language": "python",
                "azdata_cell_guid": "fe011b94-a075-4afd-ae39-e06eec005996"
            },
            "attachments": {}
        },
        {
            "cell_type": "code",
            "source": [
                "linear_regression.coef_"
            ],
            "metadata": {
                "language": "python",
                "azdata_cell_guid": "99379544-83a8-4744-82e0-cdbd22e87cb3"
            },
            "outputs": [
                {
                    "data": {
                        "text/plain": "array([0.02654159])"
                    },
                    "metadata": {},
                    "execution_count": 887,
                    "output_type": "execute_result"
                }
            ],
            "execution_count": 887
        },
        {
            "cell_type": "code",
            "source": [
                "linear_regression.intercept_"
            ],
            "metadata": {
                "language": "python",
                "azdata_cell_guid": "28327a05-8ea7-4ce6-b169-6e3a24c700dc"
            },
            "outputs": [
                {
                    "data": {
                        "text/plain": "-20.64745884965625"
                    },
                    "metadata": {},
                    "execution_count": 888,
                    "output_type": "execute_result"
                }
            ],
            "execution_count": 888
        },
        {
            "cell_type": "markdown",
            "source": [
                "### Testing the Model\n",
                "Let’s test the model using the data in X_test and check some of the predictions throughout the dataset by displaying the predicted and expected values for every fifth element"
            ],
            "metadata": {
                "language": "python",
                "azdata_cell_guid": "9f75a8be-8749-4f2e-8c6e-274af70c1e1f"
            },
            "attachments": {}
        },
        {
            "cell_type": "code",
            "source": [
                "predicted = linear_regression.predict(X_test)\n",
                "expected = y_test\n",
                "for p, e in zip(predicted[::5], expected[::5]):\n",
                "    print(f'predicted: {p:.2f}, expected: {e:.2f}')"
            ],
            "metadata": {
                "language": "python",
                "azdata_cell_guid": "ca119b78-0111-4e7c-a8c9-2c37aece942d"
            },
            "outputs": [
                {
                    "name": "stdout",
                    "text": "predicted: 29.65, expected: 28.40\npredicted: 31.37, expected: 33.10\npredicted: 31.69, expected: 34.30\npredicted: 32.57, expected: 31.30\npredicted: 32.65, expected: 36.50\npredicted: 32.41, expected: 33.90\npredicted: 30.23, expected: 31.60\n",
                    "output_type": "stream"
                }
            ],
            "execution_count": 889
        },
        {
            "cell_type": "markdown",
            "source": [
                "### Predicting Future Temperatures and Estimating Past Temperatures\n",
                "\n",
                "Let’s use the coefficient and intercept values to predict the January 2026 average high temperature and to estimate what the average high temperature was in January of 1890. The lambda in the following snippet implements the equation for a line\n",
                "\n",
                "y = mx + b\n",
                "\n",
                "using the coef_ as m and the intercept_ as b."
            ],
            "metadata": {
                "language": "python",
                "azdata_cell_guid": "db309a99-8597-42eb-880b-0db93e451788"
            },
            "attachments": {}
        },
        {
            "cell_type": "code",
            "source": [
                "predict = (lambda x: linear_regression.coef_ * x + linear_regression.intercept_)\n",
                "predict(2026)"
            ],
            "metadata": {
                "language": "python",
                "azdata_cell_guid": "d65baeef-8a50-469e-a968-dd7a376e70b7"
            },
            "outputs": [
                {
                    "data": {
                        "text/plain": "array([33.12581252])"
                    },
                    "metadata": {},
                    "execution_count": 890,
                    "output_type": "execute_result"
                }
            ],
            "execution_count": 890
        },
        {
            "cell_type": "code",
            "source": [
                "predict(1890)\n",
                ""
            ],
            "metadata": {
                "language": "python",
                "azdata_cell_guid": "0ac2acd9-8982-4bc8-bfa1-dffe7e1c61f4"
            },
            "outputs": [
                {
                    "data": {
                        "text/plain": "array([29.51615561])"
                    },
                    "metadata": {},
                    "execution_count": 891,
                    "output_type": "execute_result"
                }
            ],
            "execution_count": 891
        },
        {
            "cell_type": "markdown",
            "source": [
                "### Visualizing the Dataset with the Regression Line\n",
                "Next, let’s create a scatter plot of the dataset. With it, display the regression line. First, create an array containing the minimum and maximum date values in nyc.Date. Show the plot:"
            ],
            "metadata": {
                "language": "python",
                "azdata_cell_guid": "1179d33f-6700-4631-9d11-30996140cb8d"
            },
            "attachments": {}
        },
        {
            "cell_type": "code",
            "source": [
                "sns.scatterplot(data=nyc_df, x='Date', y='Temperature',\n",
                "    hue='Temperature', palette='winter', legend=False).set_ylim(10, 70)\n",
                "\n",
                "x = np.array([min(nyc_df.Date.values), max(nyc_df.Date.values)])\n",
                "y = predict(x)\n",
                "plt.xlabel(\"Year\")\n",
                "plt.ylabel(\"Temperature\")\n",
                "plt.title(\"Scatterplot of Temperature vs. Year\")\n",
                "plt.plot(x, y)\n",
                "\n",
                "plt.show()"
            ],
            "metadata": {
                "language": "python",
                "azdata_cell_guid": "6b1da91f-2ec5-4377-bcfe-6153d4c6a343"
            },
            "outputs": [
{
    "data": {
        "text/plain": "<Figure size 640x480 with 1 Axes>",
        "image/png": "[encoded data removed]"
    },
    "metadata": {},
    "output_type": "display_data"
}
],
            "execution_count": 892
        },
        {
            "cell_type": "markdown",
            "source": [
                "## Conclusion"
            ],
            "metadata": {
                "language": "python",
                "azdata_cell_guid": "7a078cd2-122b-47a3-9153-48065ff357e0"
            },
            "attachments": {}
        },
        {
            "cell_type": "markdown",
            "source": [
                "To fit a linear function to a set of data points, linear regression models are available in both SciPy and SciKit-Learn. However, the two libraries have a few different features and slightly different interfaces.\n",
                "\n",
                "The linregress() function in the stats module of scipy carries out a straightforward linear regression and outputs the slope, intercept, correlation coefficient, p-value, and estimate's standard error. The linregress() function presupposes that the data points are equally important and that the residuals are evenly spaced.\n",
                "\n",
                "In its linear model module, scikit-learn offers a more versatile LinearRegression class that can deal with many independent variables, non-linear correlations, and weighted regression. In order to help avoid overfitting, LinearRegression also supports regularization techniques like L1 and L2 regularization.\n",
                "\n",
                "The fit() method is often used to fit the model to the data before using LinearRegression in Scikit-Learn. Typically, you first construct an instance of the class. Then, you may use the coef_ attribute to obtain the regression coefficients and the intercept, respectively.\n",
                "\n",
                "Linear regression with or without intercepts can be carried out using scipy or scikit-learn.\n",
                "\n",
                "- Using the intercept argument of linregress() in Scipy, you may provide the intercept value.\n",
                "- You can fit a line with no intercept by setting the fit intercept scikit-learn parameter to False.\n",
                "\n",
                "Overall, scipy's linregress() method is a decent option if you need to execute a straightforward linear regression with equal weights and no further criteria. But, scikit-LinearRegression learn's class is probably more appropriate if you need to handle more complicated cases or wish to apply regularization."
            ],
            "metadata": {
                "language": "python",
                "azdata_cell_guid": "311c441d-ad73-44a7-bb9a-083448eb973f"
            },
            "attachments": {}
        }
    ]
}